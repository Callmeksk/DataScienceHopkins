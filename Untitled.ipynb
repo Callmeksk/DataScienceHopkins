{
  "nbformat": 4,
  "nbformat_minor": 0,
  "metadata": {
    "colab": {
      "name": "Untitled",
      "provenance": [],
      "authorship_tag": "ABX9TyNKGpCGEOcfFioZy3KK342w",
      "include_colab_link": true
    },
    "kernelspec": {
      "name": "python3",
      "display_name": "Python 3"
    }
  },
  "cells": [
    {
      "cell_type": "markdown",
      "metadata": {
        "id": "view-in-github",
        "colab_type": "text"
      },
      "source": [
        "<a href=\"https://colab.research.google.com/github/Callmeksk/DataScienceHopkins/blob/master/Untitled.ipynb\" target=\"_parent\"><img src=\"https://colab.research.google.com/assets/colab-badge.svg\" alt=\"Open In Colab\"/></a>"
      ]
    },
    {
      "cell_type": "code",
      "metadata": {
        "id": "XzdU7ADibell",
        "colab_type": "code",
        "colab": {
          "base_uri": "https://localhost:8080/",
          "height": 92
        },
        "outputId": "6bb5779f-b658-4499-8ab7-d29db8d09f00"
      },
      "source": [
        "import math \n",
        "import pandas_datareader as web\n",
        "import pandas as pd\n",
        "import numpy as np\n",
        "from sklearn.preprocessing import MinMaxScaler \n",
        "from keras.models import Sequential \n",
        "from keras.layers import LSTM,Dense \n",
        "import matplotlib.pyplot as plt \n",
        "plt.style.use(\"fivethirtyeight\")"
      ],
      "execution_count": 3,
      "outputs": [
        {
          "output_type": "stream",
          "text": [
            "/usr/local/lib/python3.6/dist-packages/pandas_datareader/compat/__init__.py:7: FutureWarning: pandas.util.testing is deprecated. Use the functions in the public API at pandas.testing instead.\n",
            "  from pandas.util.testing import assert_frame_equal\n",
            "Using TensorFlow backend.\n"
          ],
          "name": "stderr"
        }
      ]
    },
    {
      "cell_type": "code",
      "metadata": {
        "id": "7XDi0ldMb1Qj",
        "colab_type": "code",
        "colab": {}
      },
      "source": [
        "!pip install -U -q PyDrive\n",
        "from pydrive.auth import GoogleAuth\n",
        "from pydrive.drive import GoogleDrive\n",
        "from google.colab import auth\n",
        "from oauth2client.client import GoogleCredentials\n",
        "\n",
        "# 1. Authenticate and create the PyDrive client.\n",
        "auth.authenticate_user()\n",
        "gauth = GoogleAuth()\n",
        "gauth.credentials = GoogleCredentials.get_application_default()\n",
        "drive = GoogleDrive(gauth)\n",
        "\n",
        "#2. Get the file\n",
        "downloaded = drive.CreateFile({'id':'1I50xCYBulFLkjA8rjf6eND20Joy9Gh7B'}) # replace the id with id of file you want to access\n",
        "downloaded.GetContentFile('prices.csv')  \n",
        "\n",
        "#3. Read file as panda dataframe\n",
        "import pandas as pd\n",
        "df= pd.read_csv('prices.csv') "
      ],
      "execution_count": 7,
      "outputs": []
    },
    {
      "cell_type": "code",
      "metadata": {
        "id": "IjkJ_2hucPaZ",
        "colab_type": "code",
        "colab": {
          "base_uri": "https://localhost:8080/",
          "height": 206
        },
        "outputId": "5acd3131-dfa3-4db2-fc0c-0b2392ade672"
      },
      "source": [
        "df.head()"
      ],
      "execution_count": 6,
      "outputs": [
        {
          "output_type": "execute_result",
          "data": {
            "text/html": [
              "<div>\n",
              "<style scoped>\n",
              "    .dataframe tbody tr th:only-of-type {\n",
              "        vertical-align: middle;\n",
              "    }\n",
              "\n",
              "    .dataframe tbody tr th {\n",
              "        vertical-align: top;\n",
              "    }\n",
              "\n",
              "    .dataframe thead th {\n",
              "        text-align: right;\n",
              "    }\n",
              "</style>\n",
              "<table border=\"1\" class=\"dataframe\">\n",
              "  <thead>\n",
              "    <tr style=\"text-align: right;\">\n",
              "      <th></th>\n",
              "      <th>date</th>\n",
              "      <th>symbol</th>\n",
              "      <th>open</th>\n",
              "      <th>close</th>\n",
              "      <th>low</th>\n",
              "      <th>high</th>\n",
              "      <th>volume</th>\n",
              "    </tr>\n",
              "  </thead>\n",
              "  <tbody>\n",
              "    <tr>\n",
              "      <th>0</th>\n",
              "      <td>2016-01-05 00:00:00</td>\n",
              "      <td>WLTW</td>\n",
              "      <td>123.430000</td>\n",
              "      <td>125.839996</td>\n",
              "      <td>122.309998</td>\n",
              "      <td>126.250000</td>\n",
              "      <td>2163600.0</td>\n",
              "    </tr>\n",
              "    <tr>\n",
              "      <th>1</th>\n",
              "      <td>2016-01-06 00:00:00</td>\n",
              "      <td>WLTW</td>\n",
              "      <td>125.239998</td>\n",
              "      <td>119.980003</td>\n",
              "      <td>119.940002</td>\n",
              "      <td>125.540001</td>\n",
              "      <td>2386400.0</td>\n",
              "    </tr>\n",
              "    <tr>\n",
              "      <th>2</th>\n",
              "      <td>2016-01-07 00:00:00</td>\n",
              "      <td>WLTW</td>\n",
              "      <td>116.379997</td>\n",
              "      <td>114.949997</td>\n",
              "      <td>114.930000</td>\n",
              "      <td>119.739998</td>\n",
              "      <td>2489500.0</td>\n",
              "    </tr>\n",
              "    <tr>\n",
              "      <th>3</th>\n",
              "      <td>2016-01-08 00:00:00</td>\n",
              "      <td>WLTW</td>\n",
              "      <td>115.480003</td>\n",
              "      <td>116.620003</td>\n",
              "      <td>113.500000</td>\n",
              "      <td>117.440002</td>\n",
              "      <td>2006300.0</td>\n",
              "    </tr>\n",
              "    <tr>\n",
              "      <th>4</th>\n",
              "      <td>2016-01-11 00:00:00</td>\n",
              "      <td>WLTW</td>\n",
              "      <td>117.010002</td>\n",
              "      <td>114.970001</td>\n",
              "      <td>114.089996</td>\n",
              "      <td>117.330002</td>\n",
              "      <td>1408600.0</td>\n",
              "    </tr>\n",
              "  </tbody>\n",
              "</table>\n",
              "</div>"
            ],
            "text/plain": [
              "                  date symbol        open  ...         low        high     volume\n",
              "0  2016-01-05 00:00:00   WLTW  123.430000  ...  122.309998  126.250000  2163600.0\n",
              "1  2016-01-06 00:00:00   WLTW  125.239998  ...  119.940002  125.540001  2386400.0\n",
              "2  2016-01-07 00:00:00   WLTW  116.379997  ...  114.930000  119.739998  2489500.0\n",
              "3  2016-01-08 00:00:00   WLTW  115.480003  ...  113.500000  117.440002  2006300.0\n",
              "4  2016-01-11 00:00:00   WLTW  117.010002  ...  114.089996  117.330002  1408600.0\n",
              "\n",
              "[5 rows x 7 columns]"
            ]
          },
          "metadata": {
            "tags": []
          },
          "execution_count": 6
        }
      ]
    },
    {
      "cell_type": "code",
      "metadata": {
        "id": "rcfuzaU9qWzG",
        "colab_type": "code",
        "colab": {}
      },
      "source": [
        "#Getting the stock details of a particular symbol\n",
        "df=df[df['symbol']==\"WLTW\"]"
      ],
      "execution_count": 10,
      "outputs": []
    },
    {
      "cell_type": "code",
      "metadata": {
        "id": "aNaIN1nrcd_C",
        "colab_type": "code",
        "colab": {
          "base_uri": "https://localhost:8080/",
          "height": 35
        },
        "outputId": "9ce31427-c14e-43d9-f491-38e266be6d8f"
      },
      "source": [
        "#get The number of rows and column\n",
        "df.shape"
      ],
      "execution_count": 11,
      "outputs": [
        {
          "output_type": "execute_result",
          "data": {
            "text/plain": [
              "(251, 7)"
            ]
          },
          "metadata": {
            "tags": []
          },
          "execution_count": 11
        }
      ]
    },
    {
      "cell_type": "code",
      "metadata": {
        "id": "7f9kDTbNDecH",
        "colab_type": "code",
        "colab": {
          "base_uri": "https://localhost:8080/",
          "height": 558
        },
        "outputId": "68d01dc1-856a-47f4-cc34-1e327a497171"
      },
      "source": [
        "\n",
        "\n",
        "#plot\n",
        "plt.figure(figsize=(16,8))\n",
        "plt.title(\"Close Price History\")\n",
        "plt.xlabel('Date',fontsize=18)\n",
        "plt.ylabel('Close Price',fontsize=18)\n",
        "plt.plot(df['close'])\n",
        "plt.show()"
      ],
      "execution_count": 13,
      "outputs": [
        {
          "output_type": "display_data",
          "data": {
            "image/png": "[encoded data removed]",
            "text/plain": [
              "<Figure size 1152x576 with 1 Axes>"
            ]
          },
          "metadata": {
            "tags": []
          }
        }
      ]
    },
    {
      "cell_type": "code",
      "metadata": {
        "id": "00CAADpxDiyQ",
        "colab_type": "code",
        "colab": {
          "base_uri": "https://localhost:8080/",
          "height": 35
        },
        "outputId": "ad9dddaa-64d4-4feb-fc4f-8deb6e707f37"
      },
      "source": [
        "#create new dataframe\n",
        "data=df.filter(['close'])\n",
        "#Convert into Array\n",
        "dataset=data.values\n",
        "#Training Data\n",
        "train_data_len=math.ceil(len(dataset)* 0.80)\n",
        "train_data_len"
      ],
      "execution_count": 14,
      "outputs": [
        {
          "output_type": "execute_result",
          "data": {
            "text/plain": [
              "201"
            ]
          },
          "metadata": {
            "tags": []
          },
          "execution_count": 14
        }
      ]
    },
    {
      "cell_type": "code",
      "metadata": {
        "id": "h218wMplDnY0",
        "colab_type": "code",
        "colab": {
          "base_uri": "https://localhost:8080/",
          "height": 1000
        },
        "outputId": "998963fe-1cb8-4ec0-ef03-ccc6c5eda1e7"
      },
      "source": [
        "#Scale Data\n",
        "scaler=MinMaxScaler(feature_range=(0,1))\n",
        "scaled_data = scaler.fit_transform(dataset)\n",
        "scaled_data"
      ],
      "execution_count": 15,
      "outputs": [
        {
          "output_type": "execute_result",
          "data": {
            "text/plain": [
              "array([[0.72971895],\n",
              "       [0.50117014],\n",
              "       [0.30499212],\n",
              "       [0.37012494],\n",
              "       [0.3057723 ],\n",
              "       [0.32839328],\n",
              "       [0.2230889 ],\n",
              "       [0.28276123],\n",
              "       [0.21060844],\n",
              "       [0.12675504],\n",
              "       [0.0846336 ],\n",
              "       [0.11193456],\n",
              "       [0.18798747],\n",
              "       [0.11661487],\n",
              "       [0.15093611],\n",
              "       [0.13962562],\n",
              "       [0.21255864],\n",
              "       [0.28627153],\n",
              "       [0.28744154],\n",
              "       [0.13377535],\n",
              "       [0.26989096],\n",
              "       [0.33463337],\n",
              "       [0.26872068],\n",
              "       [0.15717652],\n",
              "       [0.13728565],\n",
              "       [0.0152106 ],\n",
              "       [0.        ],\n",
              "       [0.02769106],\n",
              "       [0.14196564],\n",
              "       [0.16029641],\n",
              "       [0.17433696],\n",
              "       [0.12480515],\n",
              "       [0.23049931],\n",
              "       [0.18564745],\n",
              "       [0.1727769 ],\n",
              "       [0.22425891],\n",
              "       [0.21918882],\n",
              "       [0.24141971],\n",
              "       [0.32683318],\n",
              "       [0.37636503],\n",
              "       [0.38494541],\n",
              "       [0.39235578],\n",
              "       [0.38299522],\n",
              "       [0.37363492],\n",
              "       [0.36505454],\n",
              "       [0.37792513],\n",
              "       [0.52613114],\n",
              "       [0.52652092],\n",
              "       [0.52925103],\n",
              "       [0.53393133],\n",
              "       [0.65912626],\n",
              "       [0.55148191],\n",
              "       [0.55850219],\n",
              "       [0.55928237],\n",
              "       [0.47776898],\n",
              "       [0.4789393 ],\n",
              "       [0.45202811],\n",
              "       [0.42316705],\n",
              "       [0.45280803],\n",
              "       [0.44968814],\n",
              "       [0.49921995],\n",
              "       [0.41029649],\n",
              "       [0.27067087],\n",
              "       [0.32527308],\n",
              "       [0.25000009],\n",
              "       [0.24493   ],\n",
              "       [0.29290171],\n",
              "       [0.33775357],\n",
              "       [0.42355687],\n",
              "       [0.41302656],\n",
              "       [0.44149754],\n",
              "       [0.55109209],\n",
              "       [0.56747266],\n",
              "       [0.59204356],\n",
              "       [0.6193448 ],\n",
              "       [0.64976597],\n",
              "       [0.63065529],\n",
              "       [0.67355695],\n",
              "       [0.6848674 ],\n",
              "       [0.66380657],\n",
              "       [0.69305773],\n",
              "       [0.73439925],\n",
              "       [0.74648966],\n",
              "       [0.75780014],\n",
              "       [0.80070208],\n",
              "       [0.5627924 ],\n",
              "       [0.63611547],\n",
              "       [0.71684867],\n",
              "       [0.66614654],\n",
              "       [0.65366605],\n",
              "       [0.6177847 ],\n",
              "       [0.65444627],\n",
              "       [0.6349455 ],\n",
              "       [0.70748811],\n",
              "       [0.70163811],\n",
              "       [0.71918869],\n",
              "       [0.73400916],\n",
              "       [0.76014043],\n",
              "       [0.75390003],\n",
              "       [0.75975034],\n",
              "       [0.81045247],\n",
              "       [0.81474264],\n",
              "       [0.81669283],\n",
              "       [0.84321362],\n",
              "       [0.79368176],\n",
              "       [0.80148196],\n",
              "       [0.86271439],\n",
              "       [0.85413401],\n",
              "       [0.87558498],\n",
              "       [0.775351  ],\n",
              "       [0.71528857],\n",
              "       [0.6953977 ],\n",
              "       [0.66341643],\n",
              "       [0.6907174 ],\n",
              "       [0.70982839],\n",
              "       [0.74648966],\n",
              "       [0.78783149],\n",
              "       [0.75507004],\n",
              "       [0.80031199],\n",
              "       [0.3853355 ],\n",
              "       [0.24453991],\n",
              "       [0.4067862 ],\n",
              "       [0.54095161],\n",
              "       [0.67004666],\n",
              "       [0.65795626],\n",
              "       [0.63767557],\n",
              "       [0.69188772],\n",
              "       [0.67511702],\n",
              "       [0.69929782],\n",
              "       [0.71723849],\n",
              "       [0.7827611 ],\n",
              "       [0.75233993],\n",
              "       [0.73751946],\n",
              "       [0.68096701],\n",
              "       [0.65717634],\n",
              "       [0.66458644],\n",
              "       [0.65795626],\n",
              "       [0.6318253 ],\n",
              "       [0.65561624],\n",
              "       [0.65795626],\n",
              "       [0.64859596],\n",
              "       [0.66848656],\n",
              "       [0.64781577],\n",
              "       [0.64313578],\n",
              "       [0.65171585],\n",
              "       [0.62558489],\n",
              "       [0.65093598],\n",
              "       [0.66146624],\n",
              "       [0.49882986],\n",
              "       [0.52496082],\n",
              "       [0.54992208],\n",
              "       [0.57293288],\n",
              "       [0.60920432],\n",
              "       [0.55928237],\n",
              "       [0.56162239],\n",
              "       [0.55967247],\n",
              "       [0.57722305],\n",
              "       [0.60179395],\n",
              "       [0.60803431],\n",
              "       [0.61700451],\n",
              "       [0.62324492],\n",
              "       [0.58814344],\n",
              "       [0.58814344],\n",
              "       [0.61856461],\n",
              "       [0.65483605],\n",
              "       [0.65561624],\n",
              "       [0.65834635],\n",
              "       [0.69110749],\n",
              "       [0.75663014],\n",
              "       [0.80070208],\n",
              "       [0.83541342],\n",
              "       [0.71333838],\n",
              "       [0.58151326],\n",
              "       [0.70670819],\n",
              "       [0.62246469],\n",
              "       [0.59165374],\n",
              "       [0.70163811],\n",
              "       [0.65600606],\n",
              "       [0.68447731],\n",
              "       [0.72347886],\n",
              "       [0.82956284],\n",
              "       [0.85998401],\n",
              "       [0.81747244],\n",
              "       [0.81396245],\n",
              "       [0.84906361],\n",
              "       [0.81357236],\n",
              "       [0.88377495],\n",
              "       [1.        ],\n",
              "       [0.97425886],\n",
              "       [0.95319826],\n",
              "       [0.96840886],\n",
              "       [0.97347863],\n",
              "       [0.93330712],\n",
              "       [0.93174729],\n",
              "       [0.84243343],\n",
              "       [0.88767534],\n",
              "       [0.81045247],\n",
              "       [0.82839283],\n",
              "       [0.77847089],\n",
              "       [0.81435227],\n",
              "       [0.84360344],\n",
              "       [0.79368176],\n",
              "       [0.76677062],\n",
              "       [0.78627139],\n",
              "       [0.75350993],\n",
              "       [0.74024956],\n",
              "       [0.72152866],\n",
              "       [0.72230889],\n",
              "       [0.73205928],\n",
              "       [0.67082684],\n",
              "       [0.6177847 ],\n",
              "       [0.64508567],\n",
              "       [0.37636503],\n",
              "       [0.41185656],\n",
              "       [0.45475822],\n",
              "       [0.42394696],\n",
              "       [0.59048346],\n",
              "       [0.55967247],\n",
              "       [0.59906384],\n",
              "       [0.6318253 ],\n",
              "       [0.60608412],\n",
              "       [0.68135711],\n",
              "       [0.68993753],\n",
              "       [0.65366605],\n",
              "       [0.68993753],\n",
              "       [0.67979705],\n",
              "       [0.70865839],\n",
              "       [0.67238695],\n",
              "       [0.67277673],\n",
              "       [0.67238695],\n",
              "       [0.55733218],\n",
              "       [0.49961004],\n",
              "       [0.55967247],\n",
              "       [0.68759751],\n",
              "       [0.68720742],\n",
              "       [0.61895471],\n",
              "       [0.61076442],\n",
              "       [0.54914189],\n",
              "       [0.67589693],\n",
              "       [0.59009364],\n",
              "       [0.59438385],\n",
              "       [0.59282375],\n",
              "       [0.64352557],\n",
              "       [0.65171585],\n",
              "       [0.61856461],\n",
              "       [0.6131044 ],\n",
              "       [0.67706694],\n",
              "       [0.66887665],\n",
              "       [0.59477363],\n",
              "       [0.58658334],\n",
              "       [0.59087355]])"
            ]
          },
          "metadata": {
            "tags": []
          },
          "execution_count": 15
        }
      ]
    },
    {
      "cell_type": "code",
      "metadata": {
        "id": "SMvF61eCDp63",
        "colab_type": "code",
        "colab": {
          "base_uri": "https://localhost:8080/",
          "height": 271
        },
        "outputId": "56768efd-4baf-43f1-aacd-a9d3dba14b76"
      },
      "source": [
        "#Create Traing DataSet\n",
        "train_data = scaled_data[0:train_data_len , :]\n",
        "#split the data into X and Y sets\n",
        "x_train =[]\n",
        "y_train =[]\n",
        "\n",
        "for i in range (60,len(train_data)):\n",
        "  x_train.append(train_data[i-60:i,0])\n",
        "  y_train.append(train_data[i,0])\n",
        "  if i<=60:\n",
        "    print(x_train)\n",
        "    print(y_train)\n",
        "    print()"
      ],
      "execution_count": 16,
      "outputs": [
        {
          "output_type": "stream",
          "text": [
            "[array([0.72971895, 0.50117014, 0.30499212, 0.37012494, 0.3057723 ,\n",
            "       0.32839328, 0.2230889 , 0.28276123, 0.21060844, 0.12675504,\n",
            "       0.0846336 , 0.11193456, 0.18798747, 0.11661487, 0.15093611,\n",
            "       0.13962562, 0.21255864, 0.28627153, 0.28744154, 0.13377535,\n",
            "       0.26989096, 0.33463337, 0.26872068, 0.15717652, 0.13728565,\n",
            "       0.0152106 , 0.        , 0.02769106, 0.14196564, 0.16029641,\n",
            "       0.17433696, 0.12480515, 0.23049931, 0.18564745, 0.1727769 ,\n",
            "       0.22425891, 0.21918882, 0.24141971, 0.32683318, 0.37636503,\n",
            "       0.38494541, 0.39235578, 0.38299522, 0.37363492, 0.36505454,\n",
            "       0.37792513, 0.52613114, 0.52652092, 0.52925103, 0.53393133,\n",
            "       0.65912626, 0.55148191, 0.55850219, 0.55928237, 0.47776898,\n",
            "       0.4789393 , 0.45202811, 0.42316705, 0.45280803, 0.44968814])]\n",
            "[0.49921994951093485]\n",
            "\n"
          ],
          "name": "stdout"
        }
      ]
    },
    {
      "cell_type": "code",
      "metadata": {
        "id": "7MZmnTpmDtXC",
        "colab_type": "code",
        "colab": {}
      },
      "source": [
        "#convert x and y train dataset into numpy array\n",
        "x_train,y_train=np.array(x_train),np.array(y_train)"
      ],
      "execution_count": 17,
      "outputs": []
    },
    {
      "cell_type": "code",
      "metadata": {
        "id": "KPEgFxbjDw4V",
        "colab_type": "code",
        "colab": {
          "base_uri": "https://localhost:8080/",
          "height": 35
        },
        "outputId": "323fa0b8-d70f-42f6-d854-e3e7db992dca"
      },
      "source": [
        "# Reshape the Data\n",
        "x_train=np.reshape(x_train,(x_train.shape[0],x_train.shape[1],1))\n",
        "x_train.shape"
      ],
      "execution_count": 18,
      "outputs": [
        {
          "output_type": "execute_result",
          "data": {
            "text/plain": [
              "(141, 60, 1)"
            ]
          },
          "metadata": {
            "tags": []
          },
          "execution_count": 18
        }
      ]
    },
    {
      "cell_type": "code",
      "metadata": {
        "id": "jcs0ZQbTDy27",
        "colab_type": "code",
        "colab": {}
      },
      "source": [
        "#Build LSTM Model\n",
        "model=Sequential()\n",
        "model.add(LSTM(50,return_sequences= True,input_shape=(x_train.shape[1],1)))\n",
        "model.add(LSTM(50,return_sequences=False))\n",
        "model.add(Dense(25))\n",
        "model.add(Dense(1))"
      ],
      "execution_count": 19,
      "outputs": []
    },
    {
      "cell_type": "code",
      "metadata": {
        "id": "346fQj0kD1Qv",
        "colab_type": "code",
        "colab": {}
      },
      "source": [
        "#Compile Model\n",
        "model.compile(optimizer='adam',loss='mean_squared_error')"
      ],
      "execution_count": 20,
      "outputs": []
    },
    {
      "cell_type": "code",
      "metadata": {
        "id": "xnnHj-ZLD3ZD",
        "colab_type": "code",
        "colab": {
          "base_uri": "https://localhost:8080/",
          "height": 72
        },
        "outputId": "d4b746bc-b0e1-438a-a0f7-13857335cfb3"
      },
      "source": [
        "#Train the model\n",
        "model.fit(x_train,y_train,batch_size=1,epochs=1)"
      ],
      "execution_count": 21,
      "outputs": [
        {
          "output_type": "stream",
          "text": [
            "Epoch 1/1\n",
            "141/141 [==============================] - 5s 39ms/step - loss: 0.0245\n"
          ],
          "name": "stdout"
        },
        {
          "output_type": "execute_result",
          "data": {
            "text/plain": [
              "<keras.callbacks.callbacks.History at 0x7fb5fea04f28>"
            ]
          },
          "metadata": {
            "tags": []
          },
          "execution_count": 21
        }
      ]
    },
    {
      "cell_type": "code",
      "metadata": {
        "id": "CeJ3Dl8xD6To",
        "colab_type": "code",
        "colab": {}
      },
      "source": [
        "#create the testing data set\n",
        "test_data= scaled_data[train_data_len -60:,:]\n",
        "#create X and Y test set\n",
        "x_test=[]\n",
        "y_test=dataset[train_data_len:,:]\n",
        "for i in range(60 ,len(test_data)):\n",
        "  x_test.append(test_data[i-60:i,0])\n"
      ],
      "execution_count": 22,
      "outputs": []
    },
    {
      "cell_type": "code",
      "metadata": {
        "id": "42Nn3IXiEBau",
        "colab_type": "code",
        "colab": {}
      },
      "source": [
        "# Convert the data to array\n",
        "x_test=np.array(x_test)"
      ],
      "execution_count": 23,
      "outputs": []
    },
    {
      "cell_type": "code",
      "metadata": {
        "id": "mfaMp5gRk0ad",
        "colab_type": "code",
        "colab": {}
      },
      "source": [
        "#Redimensioning\n",
        "x_test=np.reshape(x_test,(x_test.shape[0],x_test.shape[1],1))"
      ],
      "execution_count": 24,
      "outputs": []
    },
    {
      "cell_type": "code",
      "metadata": {
        "id": "FfGXFluqk40F",
        "colab_type": "code",
        "colab": {}
      },
      "source": [
        "predictions=model.predict(x_test)\n",
        "predictions=scaler.inverse_transform(predictions)"
      ],
      "execution_count": 25,
      "outputs": []
    },
    {
      "cell_type": "code",
      "metadata": {
        "id": "jp65KgWJlAHZ",
        "colab_type": "code",
        "colab": {
          "base_uri": "https://localhost:8080/",
          "height": 35
        },
        "outputId": "691e28f6-71a9-4154-fd04-bec8493a259a"
      },
      "source": [
        "# Get RMSE\n",
        "rmse=np.sqrt(np.mean(predictions - y_test)**2)\n",
        "rmse"
      ],
      "execution_count": 26,
      "outputs": [
        {
          "output_type": "execute_result",
          "data": {
            "text/plain": [
              "0.7408027760644532"
            ]
          },
          "metadata": {
            "tags": []
          },
          "execution_count": 26
        }
      ]
    },
    {
      "cell_type": "code",
      "metadata": {
        "id": "aNBpa-rDla6h",
        "colab_type": "code",
        "colab": {
          "base_uri": "https://localhost:8080/",
          "height": 667
        },
        "outputId": "d9d103eb-fbe5-4432-e514-8fc6f32b9939"
      },
      "source": [
        "#Plot Data\n",
        "train =data[: train_data_len]\n",
        "valid=data[train_data_len:]\n",
        "valid['Predictions']=predictions\n",
        "#visualize\n",
        "plt.figure(figsize=(16,8))\n",
        "plt.title('Model')\n",
        "plt.xlabel('Date', fontsize=18)\n",
        "plt.ylabel('Close Price', fontsize=18)\n",
        "plt.plot(train['close'])\n",
        "plt.plot(valid[['close','Predictions']])\n",
        "plt.legend(['Train','Val','Predictions'], loc='lower right')\n",
        "plt.show()"
      ],
      "execution_count": 27,
      "outputs": [
        {
          "output_type": "stream",
          "text": [
            "/usr/local/lib/python3.6/dist-packages/ipykernel_launcher.py:4: SettingWithCopyWarning: \n",
            "A value is trying to be set on a copy of a slice from a DataFrame.\n",
            "Try using .loc[row_indexer,col_indexer] = value instead\n",
            "\n",
            "See the caveats in the documentation: https://pandas.pydata.org/pandas-docs/stable/user_guide/indexing.html#returning-a-view-versus-a-copy\n",
            "  after removing the cwd from sys.path.\n"
          ],
          "name": "stderr"
        },
        {
          "output_type": "display_data",
          "data": {
            "image/png": "[encoded data removed]",
            "text/plain": [
              "<Figure size 1152x576 with 1 Axes>"
            ]
          },
          "metadata": {
            "tags": []
          }
        }
      ]
    },
    {
      "cell_type": "code",
      "metadata": {
        "id": "t5o_d4H4lf30",
        "colab_type": "code",
        "colab": {
          "base_uri": "https://localhost:8080/",
          "height": 1000
        },
        "outputId": "a9fd2989-26c5-40b2-fac0-3cd6ed307fc5"
      },
      "source": [
        "valid"
      ],
      "execution_count": 28,
      "outputs": [
        {
          "output_type": "execute_result",
          "data": {
            "text/html": [
              "<div>\n",
              "<style scoped>\n",
              "    .dataframe tbody tr th:only-of-type {\n",
              "        vertical-align: middle;\n",
              "    }\n",
              "\n",
              "    .dataframe tbody tr th {\n",
              "        vertical-align: top;\n",
              "    }\n",
              "\n",
              "    .dataframe thead th {\n",
              "        text-align: right;\n",
              "    }\n",
              "</style>\n",
              "<table border=\"1\" class=\"dataframe\">\n",
              "  <thead>\n",
              "    <tr style=\"text-align: right;\">\n",
              "      <th></th>\n",
              "      <th>close</th>\n",
              "      <th>Predictions</th>\n",
              "    </tr>\n",
              "    <tr>\n",
              "      <th>date</th>\n",
              "      <th></th>\n",
              "      <th></th>\n",
              "    </tr>\n",
              "  </thead>\n",
              "  <tbody>\n",
              "    <tr>\n",
              "      <th>2016-10-20</th>\n",
              "      <td>127.480003</td>\n",
              "      <td>127.234787</td>\n",
              "    </tr>\n",
              "    <tr>\n",
              "      <th>2016-10-21</th>\n",
              "      <td>126.790001</td>\n",
              "      <td>127.088722</td>\n",
              "    </tr>\n",
              "    <tr>\n",
              "      <th>2016-10-24</th>\n",
              "      <td>127.290001</td>\n",
              "      <td>126.919487</td>\n",
              "    </tr>\n",
              "    <tr>\n",
              "      <th>2016-10-25</th>\n",
              "      <td>126.449997</td>\n",
              "      <td>126.766891</td>\n",
              "    </tr>\n",
              "    <tr>\n",
              "      <th>2016-10-26</th>\n",
              "      <td>126.110001</td>\n",
              "      <td>126.599243</td>\n",
              "    </tr>\n",
              "    <tr>\n",
              "      <th>2016-10-27</th>\n",
              "      <td>125.629997</td>\n",
              "      <td>126.422699</td>\n",
              "    </tr>\n",
              "    <tr>\n",
              "      <th>2016-10-28</th>\n",
              "      <td>125.650002</td>\n",
              "      <td>126.233719</td>\n",
              "    </tr>\n",
              "    <tr>\n",
              "      <th>2016-10-31</th>\n",
              "      <td>125.900002</td>\n",
              "      <td>126.050163</td>\n",
              "    </tr>\n",
              "    <tr>\n",
              "      <th>2016-11-01</th>\n",
              "      <td>124.330002</td>\n",
              "      <td>125.889091</td>\n",
              "    </tr>\n",
              "    <tr>\n",
              "      <th>2016-11-02</th>\n",
              "      <td>122.970001</td>\n",
              "      <td>125.690910</td>\n",
              "    </tr>\n",
              "    <tr>\n",
              "      <th>2016-11-03</th>\n",
              "      <td>123.669998</td>\n",
              "      <td>125.436188</td>\n",
              "    </tr>\n",
              "    <tr>\n",
              "      <th>2016-11-04</th>\n",
              "      <td>116.779999</td>\n",
              "      <td>125.191742</td>\n",
              "    </tr>\n",
              "    <tr>\n",
              "      <th>2016-11-07</th>\n",
              "      <td>117.690002</td>\n",
              "      <td>124.704300</td>\n",
              "    </tr>\n",
              "    <tr>\n",
              "      <th>2016-11-08</th>\n",
              "      <td>118.790001</td>\n",
              "      <td>124.153473</td>\n",
              "    </tr>\n",
              "    <tr>\n",
              "      <th>2016-11-09</th>\n",
              "      <td>118.000000</td>\n",
              "      <td>123.627884</td>\n",
              "    </tr>\n",
              "    <tr>\n",
              "      <th>2016-11-10</th>\n",
              "      <td>122.269997</td>\n",
              "      <td>123.110939</td>\n",
              "    </tr>\n",
              "    <tr>\n",
              "      <th>2016-11-11</th>\n",
              "      <td>121.480003</td>\n",
              "      <td>122.789360</td>\n",
              "    </tr>\n",
              "    <tr>\n",
              "      <th>2016-11-14</th>\n",
              "      <td>122.489998</td>\n",
              "      <td>122.562378</td>\n",
              "    </tr>\n",
              "    <tr>\n",
              "      <th>2016-11-15</th>\n",
              "      <td>123.330002</td>\n",
              "      <td>122.448387</td>\n",
              "    </tr>\n",
              "    <tr>\n",
              "      <th>2016-11-16</th>\n",
              "      <td>122.669998</td>\n",
              "      <td>122.440056</td>\n",
              "    </tr>\n",
              "    <tr>\n",
              "      <th>2016-11-17</th>\n",
              "      <td>124.599998</td>\n",
              "      <td>122.471481</td>\n",
              "    </tr>\n",
              "    <tr>\n",
              "      <th>2016-11-18</th>\n",
              "      <td>124.820000</td>\n",
              "      <td>122.601532</td>\n",
              "    </tr>\n",
              "    <tr>\n",
              "      <th>2016-11-21</th>\n",
              "      <td>123.889999</td>\n",
              "      <td>122.788391</td>\n",
              "    </tr>\n",
              "    <tr>\n",
              "      <th>2016-11-22</th>\n",
              "      <td>124.820000</td>\n",
              "      <td>122.965240</td>\n",
              "    </tr>\n",
              "    <tr>\n",
              "      <th>2016-11-23</th>\n",
              "      <td>124.559998</td>\n",
              "      <td>123.164581</td>\n",
              "    </tr>\n",
              "    <tr>\n",
              "      <th>2016-11-25</th>\n",
              "      <td>125.300003</td>\n",
              "      <td>123.353859</td>\n",
              "    </tr>\n",
              "    <tr>\n",
              "      <th>2016-11-28</th>\n",
              "      <td>124.370003</td>\n",
              "      <td>123.555298</td>\n",
              "    </tr>\n",
              "    <tr>\n",
              "      <th>2016-11-29</th>\n",
              "      <td>124.379997</td>\n",
              "      <td>123.715385</td>\n",
              "    </tr>\n",
              "    <tr>\n",
              "      <th>2016-11-30</th>\n",
              "      <td>124.370003</td>\n",
              "      <td>123.844620</td>\n",
              "    </tr>\n",
              "    <tr>\n",
              "      <th>2016-12-01</th>\n",
              "      <td>121.419998</td>\n",
              "      <td>123.946838</td>\n",
              "    </tr>\n",
              "    <tr>\n",
              "      <th>2016-12-02</th>\n",
              "      <td>119.940002</td>\n",
              "      <td>123.915176</td>\n",
              "    </tr>\n",
              "    <tr>\n",
              "      <th>2016-12-05</th>\n",
              "      <td>121.480003</td>\n",
              "      <td>123.756714</td>\n",
              "    </tr>\n",
              "    <tr>\n",
              "      <th>2016-12-06</th>\n",
              "      <td>124.760002</td>\n",
              "      <td>123.590584</td>\n",
              "    </tr>\n",
              "    <tr>\n",
              "      <th>2016-12-07</th>\n",
              "      <td>124.750000</td>\n",
              "      <td>123.545876</td>\n",
              "    </tr>\n",
              "    <tr>\n",
              "      <th>2016-12-08</th>\n",
              "      <td>123.000000</td>\n",
              "      <td>123.567146</td>\n",
              "    </tr>\n",
              "    <tr>\n",
              "      <th>2016-12-09</th>\n",
              "      <td>122.790001</td>\n",
              "      <td>123.563187</td>\n",
              "    </tr>\n",
              "    <tr>\n",
              "      <th>2016-12-12</th>\n",
              "      <td>121.209999</td>\n",
              "      <td>123.542435</td>\n",
              "    </tr>\n",
              "    <tr>\n",
              "      <th>2016-12-13</th>\n",
              "      <td>124.459999</td>\n",
              "      <td>123.453423</td>\n",
              "    </tr>\n",
              "    <tr>\n",
              "      <th>2016-12-14</th>\n",
              "      <td>122.260002</td>\n",
              "      <td>123.454811</td>\n",
              "    </tr>\n",
              "    <tr>\n",
              "      <th>2016-12-15</th>\n",
              "      <td>122.370003</td>\n",
              "      <td>123.417709</td>\n",
              "    </tr>\n",
              "    <tr>\n",
              "      <th>2016-12-16</th>\n",
              "      <td>122.330002</td>\n",
              "      <td>123.371078</td>\n",
              "    </tr>\n",
              "    <tr>\n",
              "      <th>2016-12-19</th>\n",
              "      <td>123.629997</td>\n",
              "      <td>123.318863</td>\n",
              "    </tr>\n",
              "    <tr>\n",
              "      <th>2016-12-20</th>\n",
              "      <td>123.839996</td>\n",
              "      <td>123.315094</td>\n",
              "    </tr>\n",
              "    <tr>\n",
              "      <th>2016-12-21</th>\n",
              "      <td>122.989998</td>\n",
              "      <td>123.345070</td>\n",
              "    </tr>\n",
              "    <tr>\n",
              "      <th>2016-12-22</th>\n",
              "      <td>122.849998</td>\n",
              "      <td>123.361946</td>\n",
              "    </tr>\n",
              "    <tr>\n",
              "      <th>2016-12-23</th>\n",
              "      <td>124.489998</td>\n",
              "      <td>123.367607</td>\n",
              "    </tr>\n",
              "    <tr>\n",
              "      <th>2016-12-27</th>\n",
              "      <td>124.279999</td>\n",
              "      <td>123.428223</td>\n",
              "    </tr>\n",
              "    <tr>\n",
              "      <th>2016-12-28</th>\n",
              "      <td>122.379997</td>\n",
              "      <td>123.506081</td>\n",
              "    </tr>\n",
              "    <tr>\n",
              "      <th>2016-12-29</th>\n",
              "      <td>122.169998</td>\n",
              "      <td>123.519783</td>\n",
              "    </tr>\n",
              "    <tr>\n",
              "      <th>2016-12-30</th>\n",
              "      <td>122.279999</td>\n",
              "      <td>123.491684</td>\n",
              "    </tr>\n",
              "  </tbody>\n",
              "</table>\n",
              "</div>"
            ],
            "text/plain": [
              "                 close  Predictions\n",
              "date                               \n",
              "2016-10-20  127.480003   127.234787\n",
              "2016-10-21  126.790001   127.088722\n",
              "2016-10-24  127.290001   126.919487\n",
              "2016-10-25  126.449997   126.766891\n",
              "2016-10-26  126.110001   126.599243\n",
              "2016-10-27  125.629997   126.422699\n",
              "2016-10-28  125.650002   126.233719\n",
              "2016-10-31  125.900002   126.050163\n",
              "2016-11-01  124.330002   125.889091\n",
              "2016-11-02  122.970001   125.690910\n",
              "2016-11-03  123.669998   125.436188\n",
              "2016-11-04  116.779999   125.191742\n",
              "2016-11-07  117.690002   124.704300\n",
              "2016-11-08  118.790001   124.153473\n",
              "2016-11-09  118.000000   123.627884\n",
              "2016-11-10  122.269997   123.110939\n",
              "2016-11-11  121.480003   122.789360\n",
              "2016-11-14  122.489998   122.562378\n",
              "2016-11-15  123.330002   122.448387\n",
              "2016-11-16  122.669998   122.440056\n",
              "2016-11-17  124.599998   122.471481\n",
              "2016-11-18  124.820000   122.601532\n",
              "2016-11-21  123.889999   122.788391\n",
              "2016-11-22  124.820000   122.965240\n",
              "2016-11-23  124.559998   123.164581\n",
              "2016-11-25  125.300003   123.353859\n",
              "2016-11-28  124.370003   123.555298\n",
              "2016-11-29  124.379997   123.715385\n",
              "2016-11-30  124.370003   123.844620\n",
              "2016-12-01  121.419998   123.946838\n",
              "2016-12-02  119.940002   123.915176\n",
              "2016-12-05  121.480003   123.756714\n",
              "2016-12-06  124.760002   123.590584\n",
              "2016-12-07  124.750000   123.545876\n",
              "2016-12-08  123.000000   123.567146\n",
              "2016-12-09  122.790001   123.563187\n",
              "2016-12-12  121.209999   123.542435\n",
              "2016-12-13  124.459999   123.453423\n",
              "2016-12-14  122.260002   123.454811\n",
              "2016-12-15  122.370003   123.417709\n",
              "2016-12-16  122.330002   123.371078\n",
              "2016-12-19  123.629997   123.318863\n",
              "2016-12-20  123.839996   123.315094\n",
              "2016-12-21  122.989998   123.345070\n",
              "2016-12-22  122.849998   123.361946\n",
              "2016-12-23  124.489998   123.367607\n",
              "2016-12-27  124.279999   123.428223\n",
              "2016-12-28  122.379997   123.506081\n",
              "2016-12-29  122.169998   123.519783\n",
              "2016-12-30  122.279999   123.491684"
            ]
          },
          "metadata": {
            "tags": []
          },
          "execution_count": 28
        }
      ]
    },
    {
      "cell_type": "code",
      "metadata": {
        "id": "t3vqL4E-qdAA",
        "colab_type": "code",
        "colab": {}
      },
      "source": [
        ""
      ],
      "execution_count": null,
      "outputs": []
    }
  ]
}